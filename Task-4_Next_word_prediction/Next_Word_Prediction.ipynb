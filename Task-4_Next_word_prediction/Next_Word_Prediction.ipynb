{
 "cells": [
  {
   "cell_type": "markdown",
   "id": "31aa804d",
   "metadata": {},
   "source": [
    "# LGM Intern\n",
    "\n",
    "# khushi Udasi"
   ]
  },
  {
   "cell_type": "markdown",
   "id": "25e85330",
   "metadata": {},
   "source": [
    "# Task-4 (Advanced level task)"
   ]
  },
  {
   "cell_type": "markdown",
   "id": "7d7fe907",
   "metadata": {},
   "source": [
    "# Topic:- Next Word Prediction"
   ]
  },
  {
   "cell_type": "markdown",
   "id": "0c8a63a1",
   "metadata": {},
   "source": [
    "# Using Tensorflow and Keras library train a RNN, to predict the next word. Dataset Link: https://drive.google.com/file/d/1GeUzNVqiixXHnTl8oNiQ2W3CynX_lsu2/view"
   ]
  },
  {
   "cell_type": "markdown",
   "id": "18ae0b78",
   "metadata": {},
   "source": [
    "# Importing libraries"
   ]
  },
  {
   "cell_type": "code",
   "execution_count": 1,
   "id": "0efbb80b",
   "metadata": {},
   "outputs": [],
   "source": [
    "from keras.models import Sequential\n",
    "from keras.layers import Dense, Dropout, LSTM\n",
    "from tensorflow.keras.optimizers import RMSprop\n",
    "import numpy as np\n",
    "import random\n",
    "import sys"
   ]
  },
  {
   "cell_type": "markdown",
   "id": "d94c62c5",
   "metadata": {},
   "source": [
    "# Loading dataset "
   ]
  },
  {
   "cell_type": "code",
   "execution_count": 2,
   "id": "76592f3e",
   "metadata": {},
   "outputs": [
    {
     "name": "stdout",
     "output_type": "stream",
     "text": [
      "﻿\n",
      "project gutenberg's the adventures of sherlock holmes, by arthur conan doyle\n",
      "\n",
      "this ebook is for the use of anyone anywhere at no cost and with\n",
      "almost no restrictions whatsoever.  you may copy it, give it away or\n",
      "re-use it under the terms of the project gutenberg license included\n",
      "with this ebook or online at www.gutenberg.net\n",
      "\n",
      "\n",
      "title: the adventures of sherlock holmes\n",
      "\n",
      "author: arthur conan doyle\n",
      "\n",
      "release date: november 29, 2002 [ebook #1661]\n",
      "last updated: may 20, 2019\n",
      "\n",
      "language: english\n",
      "\n",
      "character set encoding: utf-8\n",
      "\n",
      "*** start of this project gutenberg ebook the adventures of sherlock holmes ***\n",
      "\n",
      "\n",
      "\n",
      "produced by an anonymous project gutenberg volunteer and jose menendez\n",
      "\n",
      "\n",
      "\n",
      "cover\n",
      "\n",
      "\n",
      "\n",
      "the adventures of sherlock holmes\n",
      "\n",
      "\n",
      "\n",
      "by arthur conan doyle\n",
      "\n",
      "\n",
      "\n",
      "contents\n",
      "\n",
      "\n",
      "   i.     a scandal in bohemia\n",
      "   ii.    the red-headed league\n",
      "   iii.   a case of identity\n",
      "   iv.    the boscombe valley mystery\n",
      "   v.     the five orange pips\n",
      "   vi.    the man with the twisted lip\n",
      "   vii.   the adventure of the blue \n"
     ]
    }
   ],
   "source": [
    "filename = \"1661-0.txt\"\n",
    "raw_text = open(filename, 'r', encoding='utf-8').read()\n",
    "raw_text = raw_text.lower()\n",
    "print(raw_text[0:1000])"
   ]
  },
  {
   "cell_type": "markdown",
   "id": "d01d7114",
   "metadata": {},
   "source": [
    "# remove numbers"
   ]
  },
  {
   "cell_type": "code",
   "execution_count": 3,
   "id": "fe988999",
   "metadata": {},
   "outputs": [],
   "source": [
    "raw_text = ''.join(c for c in raw_text if not c.isdigit())"
   ]
  },
  {
   "cell_type": "code",
   "execution_count": 4,
   "id": "d21db9ca",
   "metadata": {},
   "outputs": [],
   "source": [
    "chars = sorted(list(set(raw_text))) #List of every character"
   ]
  },
  {
   "cell_type": "code",
   "execution_count": 5,
   "id": "01cf22cc",
   "metadata": {},
   "outputs": [],
   "source": [
    "char_to_int = dict((c, i) for i, c in enumerate(chars))#Create a dictionary of characters mapped to integer values"
   ]
  },
  {
   "cell_type": "code",
   "execution_count": 6,
   "id": "e4cb79b8",
   "metadata": {},
   "outputs": [],
   "source": [
    "int_to_char = dict((i, c) for i, c in enumerate(chars)) #Do the reverse so we can print our predictions in characters and not integers"
   ]
  },
  {
   "cell_type": "markdown",
   "id": "1ae0e392",
   "metadata": {},
   "source": [
    "# summarize the data"
   ]
  },
  {
   "cell_type": "code",
   "execution_count": 7,
   "id": "00e09218",
   "metadata": {},
   "outputs": [
    {
     "name": "stdout",
     "output_type": "stream",
     "text": [
      "Total Characters in the text; corpus length:  581397\n",
      "Total Vocab:  63\n"
     ]
    }
   ],
   "source": [
    "n_chars = len(raw_text)\n",
    "n_vocab = len(chars)\n",
    "print(\"Total Characters in the text; corpus length: \", n_chars)\n",
    "print(\"Total Vocab: \", n_vocab)"
   ]
  },
  {
   "cell_type": "markdown",
   "id": "8505648c",
   "metadata": {},
   "source": [
    "# create input/output sequences for training"
   ]
  },
  {
   "cell_type": "code",
   "execution_count": 8,
   "id": "a687dd26",
   "metadata": {},
   "outputs": [
    {
     "name": "stdout",
     "output_type": "stream",
     "text": [
      "Number of sequences: 58134\n"
     ]
    }
   ],
   "source": [
    "seq_length = 60  #Length of each input sequence\n",
    "step = 10   #Instead of moving 1 letter at a time, try skipping a few. \n",
    "sentences = []    # X values (Sentences)\n",
    "next_chars = []   # Y values. The character that follows the sentence defined as X\n",
    "for i in range(0, n_chars - seq_length, step):  #step=1 means each sentence is offset just by a single letter\n",
    "    sentences.append(raw_text[i: i + seq_length])  #Sequence in\n",
    "    next_chars.append(raw_text[i + seq_length])  #Sequence out\n",
    "n_patterns = len(sentences)    \n",
    "print('Number of sequences:', n_patterns)"
   ]
  },
  {
   "cell_type": "code",
   "execution_count": 9,
   "id": "407564f7",
   "metadata": {},
   "outputs": [
    {
     "name": "stdout",
     "output_type": "stream",
     "text": [
      "(58134, 60, 63)\n",
      "(58134, 63)\n",
      "[[False False False False False False False False False False False False\n",
      "  False False False False False False False False False False False  True\n",
      "  False False False False False False False False False False False False\n",
      "  False False False False False False False False False False False False\n",
      "  False False False False False False False False False False False False\n",
      "  False False False]\n",
      " [False False False False False False False False False False False False\n",
      "  False False False False False False False False False False False  True\n",
      "  False False False False False False False False False False False False\n",
      "  False False False False False False False False False False False False\n",
      "  False False False False False False False False False False False False\n",
      "  False False False]\n",
      " [False False False False False False False False False False False False\n",
      "  False False False False False False False False False False False False\n",
      "  False False False False False False False False False False False False\n",
      "  False False False False False False  True False False False False False\n",
      "  False False False False False False False False False False False False\n",
      "  False False False]\n",
      " [False  True False False False False False False False False False False\n",
      "  False False False False False False False False False False False False\n",
      "  False False False False False False False False False False False False\n",
      "  False False False False False False False False False False False False\n",
      "  False False False False False False False False False False False False\n",
      "  False False False]\n",
      " [False False False False False False False False False False False False\n",
      "  False False False False False False False False False False False False\n",
      "  False False False  True False False False False False False False False\n",
      "  False False False False False False False False False False False False\n",
      "  False False False False False False False False False False False False\n",
      "  False False False]\n",
      " [False False False False False False False False False False False False\n",
      "  False False False False False False False False False False False False\n",
      "  False False False False False False False False False False False False\n",
      "   True False False False False False False False False False False False\n",
      "  False False False False False False False False False False False False\n",
      "  False False False]\n",
      " [False False False False False False False False False False False False\n",
      "  False False False False False False False False False False False False\n",
      "  False False False False False False  True False False False False False\n",
      "  False False False False False False False False False False False False\n",
      "  False False False False False False False False False False False False\n",
      "  False False False]\n",
      " [False  True False False False False False False False False False False\n",
      "  False False False False False False False False False False False False\n",
      "  False False False False False False False False False False False False\n",
      "  False False False False False False False False False False False False\n",
      "  False False False False False False False False False False False False\n",
      "  False False False]\n",
      " [False False False False False False False False False False False False\n",
      "  False False False False False False False False False False False False\n",
      "  False False False False False False False False False False False False\n",
      "  False False False False False False False False False  True False False\n",
      "  False False False False False False False False False False False False\n",
      "  False False False]\n",
      " [False False False False False False False False False False False False\n",
      "  False False False False False False False False False False False False\n",
      "  False False False False False False False False False False False False\n",
      "  False False False False False False  True False False False False False\n",
      "  False False False False False False False False False False False False\n",
      "  False False False]]\n"
     ]
    }
   ],
   "source": [
    "x = np.zeros((len(sentences), seq_length, n_vocab), dtype=np.bool)\n",
    "y = np.zeros((len(sentences), n_vocab), dtype=np.bool)\n",
    "for i, sentence in enumerate(sentences):\n",
    "    for t, char in enumerate(sentence):\n",
    "        x[i, t, char_to_int[char]] = 1\n",
    "    y[i, char_to_int[next_chars[i]]] = 1\n",
    "    \n",
    "print(x.shape)\n",
    "print(y.shape)\n",
    "\n",
    "print(y[0:10])"
   ]
  },
  {
   "cell_type": "markdown",
   "id": "6ad14dec",
   "metadata": {},
   "source": [
    "# Build the model: a single LSTM"
   ]
  },
  {
   "cell_type": "code",
   "execution_count": 10,
   "id": "89af6315",
   "metadata": {},
   "outputs": [
    {
     "name": "stdout",
     "output_type": "stream",
     "text": [
      "Model: \"sequential\"\n",
      "_________________________________________________________________\n",
      "Layer (type)                 Output Shape              Param #   \n",
      "=================================================================\n",
      "lstm (LSTM)                  (None, 128)               98304     \n",
      "_________________________________________________________________\n",
      "dense (Dense)                (None, 63)                8127      \n",
      "=================================================================\n",
      "Total params: 106,431\n",
      "Trainable params: 106,431\n",
      "Non-trainable params: 0\n",
      "_________________________________________________________________\n"
     ]
    },
    {
     "name": "stderr",
     "output_type": "stream",
     "text": [
      "C:\\Users\\DELL\\AppData\\Local\\Programs\\Python\\Python39\\lib\\site-packages\\keras\\optimizer_v2\\optimizer_v2.py:355: UserWarning: The `lr` argument is deprecated, use `learning_rate` instead.\n",
      "  warnings.warn(\n"
     ]
    }
   ],
   "source": [
    "model = Sequential()\n",
    "model.add(LSTM(128, input_shape=(seq_length, n_vocab)))\n",
    "model.add(Dense(n_vocab, activation='softmax'))\n",
    "\n",
    "optimizer = RMSprop(lr=0.01)\n",
    "model.compile(loss='categorical_crossentropy', optimizer=optimizer)\n",
    "model.summary()"
   ]
  },
  {
   "cell_type": "markdown",
   "id": "15a6bffb",
   "metadata": {},
   "source": [
    "# define the checkpoint"
   ]
  },
  {
   "cell_type": "code",
   "execution_count": 11,
   "id": "f4f068d6",
   "metadata": {},
   "outputs": [
    {
     "name": "stdout",
     "output_type": "stream",
     "text": [
      "Epoch 1/3\n",
      "455/455 [==============================] - 170s 367ms/step - loss: 2.2900\n",
      "\n",
      "Epoch 00001: loss improved from inf to 2.29005, saving model to saved_weights\\saved_weights-01-2.2900.hdf5\n",
      "Epoch 2/3\n",
      "455/455 [==============================] - 161s 353ms/step - loss: 1.8611\n",
      "\n",
      "Epoch 00002: loss improved from 2.29005 to 1.86107, saving model to saved_weights\\saved_weights-02-1.8611.hdf5\n",
      "Epoch 3/3\n",
      "455/455 [==============================] - 139s 306ms/step - loss: 1.7039\n",
      "\n",
      "Epoch 00003: loss improved from 1.86107 to 1.70387, saving model to saved_weights\\saved_weights-03-1.7039.hdf5\n"
     ]
    }
   ],
   "source": [
    "from keras.callbacks import ModelCheckpoint\n",
    "\n",
    "filepath=\"saved_weights/saved_weights-{epoch:02d}-{loss:.4f}.hdf5\"\n",
    "checkpoint = ModelCheckpoint(filepath, monitor='loss', verbose=1, save_best_only=True, mode='min')\n",
    "\n",
    "callbacks_list = [checkpoint]\n",
    "\n",
    "\n",
    "# Fit the model\n",
    "\n",
    "history = model.fit(x, y,\n",
    "          batch_size=128,\n",
    "          epochs=3,   \n",
    "          callbacks=callbacks_list)\n",
    "\n",
    "model.save('my_dataset_3epochs.h5')"
   ]
  },
  {
   "cell_type": "code",
   "execution_count": 12,
   "id": "8b746c8e",
   "metadata": {},
   "outputs": [
    {
     "data": {
      "image/png": "[encoded data removed]",
      "text/plain": [
       "<Figure size 432x288 with 1 Axes>"
      ]
     },
     "metadata": {
      "needs_background": "light"
     },
     "output_type": "display_data"
    }
   ],
   "source": [
    "\n",
    "from matplotlib import pyplot as plt\n",
    "#plot the training and validation accuracy and loss at each epoch\n",
    "\n",
    "\n",
    "loss = history.history['loss']\n",
    "epochs = range(1, len(loss) + 1)\n",
    "plt.plot(epochs, loss, 'y', label='Training loss')\n",
    "plt.title('Training loss')\n",
    "plt.xlabel('Epochs')\n",
    "plt.ylabel('Loss')\n",
    "plt.legend()\n",
    "plt.show()"
   ]
  },
  {
   "cell_type": "markdown",
   "id": "7f2158ee",
   "metadata": {},
   "source": [
    "# Writing our own softmax function"
   ]
  },
  {
   "cell_type": "code",
   "execution_count": 13,
   "id": "8cdb990b",
   "metadata": {},
   "outputs": [],
   "source": [
    "\n",
    "def sample(preds):\n",
    "    preds = np.asarray(preds).astype('float64')\n",
    "    preds = np.log(preds)\n",
    "    exp_preds = np.exp(preds) #exp of log (x), isn't this same as x??\n",
    "    preds = exp_preds / np.sum(exp_preds)\n",
    "    probas = np.random.multinomial(1, preds, 1) \n",
    "    return np.argmax(probas)"
   ]
  },
  {
   "cell_type": "markdown",
   "id": "bf68b2db",
   "metadata": {},
   "source": [
    "# load the network weights"
   ]
  },
  {
   "cell_type": "code",
   "execution_count": 14,
   "id": "991117d3",
   "metadata": {},
   "outputs": [],
   "source": [
    "filename = \"my_dataset_3epochs.h5\"\n",
    "model.load_weights(filename)"
   ]
  },
  {
   "cell_type": "markdown",
   "id": "4a11bab7",
   "metadata": {},
   "source": [
    "# Pick a random sentence from the text as seed."
   ]
  },
  {
   "cell_type": "code",
   "execution_count": 15,
   "id": "3c214a23",
   "metadata": {},
   "outputs": [],
   "source": [
    "#Pick a random sentence from the text as seed.\n",
    "start_index = random.randint(0, n_chars - seq_length - 1)"
   ]
  },
  {
   "cell_type": "code",
   "execution_count": 16,
   "id": "bf2756a9",
   "metadata": {},
   "outputs": [
    {
     "name": "stdout",
     "output_type": "stream",
     "text": [
      "----- Seed for our text prediction: \"ttempting to put colour and\n",
      "life into each of your statement\"\n"
     ]
    }
   ],
   "source": [
    "generated = ''\n",
    "sentence = raw_text[start_index: start_index + seq_length]\n",
    "generated += sentence\n",
    "\n",
    "print('----- Seed for our text prediction: \"' + sentence + '\"')"
   ]
  },
  {
   "cell_type": "code",
   "execution_count": null,
   "id": "e273d1ad",
   "metadata": {},
   "outputs": [
    {
     "name": "stdout",
     "output_type": "stream",
     "text": [
      "awes the lunding. i have beeninds to bedxen likighterb-stoutakendsos, and wits ducged a ronch presite "
     ]
    }
   ],
   "source": [
    "\n",
    "for i in range(400):   # Number of characters including spaces\n",
    "    x_pred = np.zeros((1, seq_length, n_vocab))\n",
    "    for t, char in enumerate(sentence):\n",
    "        x_pred[0, t, char_to_int[char]] = 1.\n",
    "\n",
    "    preds = model.predict(x_pred, verbose=0)[0]\n",
    "    next_index = sample(preds)\n",
    "    next_char = int_to_char[next_index]\n",
    "\n",
    "    generated += next_char\n",
    "    sentence = sentence[1:] + next_char\n",
    "\n",
    "    sys.stdout.write(next_char)\n",
    "    sys.stdout.flush()\n",
    "print()"
   ]
  }
 ],
 "metadata": {
  "kernelspec": {
   "display_name": "Python 3 (ipykernel)",
   "language": "python",
   "name": "python3"
  },
  "language_info": {
   "codemirror_mode": {
    "name": "ipython",
    "version": 3
   },
   "file_extension": ".py",
   "mimetype": "text/x-python",
   "name": "python",
   "nbconvert_exporter": "python",
   "pygments_lexer": "ipython3",
   "version": "3.9.7"
  }
 },
 "nbformat": 4,
 "nbformat_minor": 5
}
